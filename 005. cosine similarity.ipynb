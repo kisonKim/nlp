{
 "cells": [
  {
   "cell_type": "code",
   "execution_count": 7,
   "id": "f2906b1f",
   "metadata": {},
   "outputs": [
    {
     "name": "stdout",
     "output_type": "stream",
     "text": [
      "[1 1 1 1 1 1 0 0 0 0]\n"
     ]
    }
   ],
   "source": [
    "from konlpy.tag import Komoran\n",
    "import numpy as np\n",
    "from numpy import dot\n",
    "from numpy.linalg import norm\n",
    "\n",
    "def make_term_doc_mat(bow, word_dics):\n",
    "    freq_mat={}\n",
    "    \n",
    "    for word in word_dics:\n",
    "        freq_mat[word] = 0\n",
    "    for word in word_dics:\n",
    "        if word in bow:\n",
    "            freq_mat[word] += 1\n",
    "    return freq_mat\n",
    "\n",
    "def make_vector(tdm):\n",
    "    vec=[]\n",
    "    for key in tdm:\n",
    "        vec.append(tdm[key])\n",
    "    return vec\n",
    "sentence_1 = \"6월에 뉴턴은 선생님의 제안으로 트리니티에 입학했다.\"\n",
    "sentence_2 = \"6월에 뉴턴은 선생님의 제안으로 대학교에 입학했다.\"\n",
    "sentence_3 = \"나는 맛있는 밥을 뉴턴 선생님과 함께 먹었다.\"\n",
    "\n",
    "komoran = Komoran()\n",
    "bow1 = komoran.nouns(sentence_1)\n",
    "bow2 = komoran.nouns(sentence_2)\n",
    "bow3 = komoran.nouns(sentence_3)\n",
    "\n",
    "bow = bow1 + bow2 + bow3\n",
    "\n",
    "word_dics = []\n",
    "for token in bow:\n",
    "    if token not in word_dics:\n",
    "        word_dics.append(token)\n",
    "\n",
    "freq_list1 = make_term_doc_mat(bow1, word_dics)\n",
    "freq_list2 = make_term_doc_mat(bow2, word_dics)\n",
    "freq_list3 = make_term_doc_mat(bow3, word_dics)\n",
    "\n",
    "doc1 = np.array(make_vector(freq_list1))\n",
    "doc2 = np.array(make_vector(freq_list2))\n",
    "doc3 = np.array(make_vector(freq_list3))\n",
    "\n",
    "r1 = cos_sim(do)"
   ]
  },
  {
   "cell_type": "code",
   "execution_count": null,
   "id": "47323ccd",
   "metadata": {},
   "outputs": [],
   "source": []
  }
 ],
 "metadata": {
  "kernelspec": {
   "display_name": "Python 3",
   "language": "python",
   "name": "python3"
  },
  "language_info": {
   "codemirror_mode": {
    "name": "ipython",
    "version": 3
   },
   "file_extension": ".py",
   "mimetype": "text/x-python",
   "name": "python",
   "nbconvert_exporter": "python",
   "pygments_lexer": "ipython3",
   "version": "3.8.8"
  }
 },
 "nbformat": 4,
 "nbformat_minor": 5
}
