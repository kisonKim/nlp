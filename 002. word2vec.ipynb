{
 "cells": [
  {
   "cell_type": "markdown",
   "id": "230ddee8",
   "metadata": {},
   "source": [
    "## gensim 설치\n",
    "anaconda prompt에서...\n",
    "```\n",
    "pip install gensim\n",
    "```"
   ]
  },
  {
   "cell_type": "code",
   "execution_count": 4,
   "id": "e42763da",
   "metadata": {},
   "outputs": [
    {
     "name": "stdout",
     "output_type": "stream",
     "text": [
      "1) 말뭉치 데이터 읽기 시작\n",
      "200000\n",
      "1) 말뭉치 데이터 읽기 완료: 1.8739962577819824\n",
      "2) 형태소에서 명사만 추출 시작\n",
      "2) 형태소에서 명사만 추출 완료: 98.39084482192993\n",
      "3) word2vec 모델 학습 시작\n",
      "3) word2vec 모델 학습 완료: 114.96153473854065\n",
      "4) 학습된 모델 저장 시작\n",
      "4) 학습된 모델 저장 완료: 115.28200626373291\n",
      "학습된 말뭉치 수, 코퍼스 내 전체 단어  수\n",
      "corpus_count :  200000\n",
      "corpus_total_words :  1076896\n"
     ]
    }
   ],
   "source": [
    "from gensim.models import Word2Vec\n",
    "from konlpy.tag import Komoran\n",
    "import time\n",
    "\n",
    "def read_review_data(filename):\n",
    "    with open(filename, 'r', encoding=\"utf-8\") as f:\n",
    "        data = [line.split('\\t') for line in f.read().splitlines()]\n",
    "        data = data[1:] #헤더 제거\n",
    "    return data\n",
    "\n",
    "start = time.time()\n",
    "\n",
    "print('1) 말뭉치 데이터 읽기 시작')\n",
    "review_data = read_review_data('./ratings.txt')\n",
    "print(len(review_data))\n",
    "print('1) 말뭉치 데이터 읽기 완료:',time.time()-start)\n",
    "\n",
    "\n",
    "#문장 단위로 명사만 추출해 학습 입력 데이터로 만듦\n",
    "print('2) 형태소에서 명사만 추출 시작')\n",
    "komoran = Komoran()\n",
    "\n",
    "docs = [komoran.nouns(sentence[1]) for sentence in review_data]\n",
    "print('2) 형태소에서 명사만 추출 완료:',time.time()-start)\n",
    "\n",
    "#word2vec 모델 학습\n",
    "print('3) word2vec 모델 학습 시작')\n",
    "model = Word2Vec(sentences = docs, vector_size=200, window=4, hs=1, min_count=2, sg=1)\n",
    "print('3) word2vec 모델 학습 완료:',time.time()-start)\n",
    "\n",
    "print('4) 학습된 모델 저장 시작')\n",
    "model.save('nvmc.model')\n",
    "print('4) 학습된 모델 저장 완료:',time.time()-start)\n",
    "\n",
    "print('학습된 말뭉치 수, 코퍼스 내 전체 단어  수')\n",
    "print(\"corpus_count : \",model.corpus_count)\n",
    "print(\"corpus_total_words : \",model.corpus_total_words)\n"
   ]
  },
  {
   "cell_type": "code",
   "execution_count": null,
   "id": "97ddef6a",
   "metadata": {},
   "outputs": [],
   "source": []
  }
 ],
 "metadata": {
  "kernelspec": {
   "display_name": "Python 3",
   "language": "python",
   "name": "python3"
  },
  "language_info": {
   "codemirror_mode": {
    "name": "ipython",
    "version": 3
   },
   "file_extension": ".py",
   "mimetype": "text/x-python",
   "name": "python",
   "nbconvert_exporter": "python",
   "pygments_lexer": "ipython3",
   "version": "3.8.8"
  }
 },
 "nbformat": 4,
 "nbformat_minor": 5
}
