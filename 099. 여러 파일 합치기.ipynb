{
 "cells": [
  {
   "cell_type": "code",
   "execution_count": 5,
   "id": "e9b02b9f",
   "metadata": {},
   "outputs": [],
   "source": [
    "# file_path = \"/tmp/log.txt\"\n",
    "\n",
    "# with open(file_path,'r',encoding=\"utf-8\") as f:\n",
    "#     lines = f.readlines()\n",
    "#     print(lines)\n",
    "\n",
    "import os\n",
    "pwd = 'C://Users/user/Downloads/비대면 진료를 위한 의료진 및 환자 음성/Validation/medv/환자'\n",
    "sentence_arr = []\n",
    "sample = open(\"patient_validation.txt\", 'w')\n",
    "for path,dirs,files in os.walk(pwd):\n",
    "    for file in files:\n",
    "        if os.path.splitext(file)[1].lower()=='.txt':  \n",
    "            with open(path+'\\\\'+file,'r',encoding=\"utf-8\") as f:\n",
    "                line = f.readlines()\n",
    "                if line[0][-1:] == '\\n':\n",
    "                    sample.write(line[0])\n",
    "                else:\n",
    "                    sample.write(line[0]+'\\n')\n",
    "                \n",
    "sample.close() \n",
    "    "
   ]
  },
  {
   "cell_type": "code",
   "execution_count": 21,
   "id": "9ae70da4",
   "metadata": {},
   "outputs": [
    {
     "data": {
      "text/plain": [
       "'\\n'"
      ]
     },
     "execution_count": 21,
     "metadata": {},
     "output_type": "execute_result"
    }
   ],
   "source": [
    "sentence = 'asdfsdafsda\\n'\n",
    "sentence[-1:]\n"
   ]
  },
  {
   "cell_type": "code",
   "execution_count": null,
   "id": "cbba60f6",
   "metadata": {},
   "outputs": [],
   "source": []
  }
 ],
 "metadata": {
  "kernelspec": {
   "display_name": "Python 3",
   "language": "python",
   "name": "python3"
  },
  "language_info": {
   "codemirror_mode": {
    "name": "ipython",
    "version": 3
   },
   "file_extension": ".py",
   "mimetype": "text/x-python",
   "name": "python",
   "nbconvert_exporter": "python",
   "pygments_lexer": "ipython3",
   "version": "3.8.8"
  }
 },
 "nbformat": 4,
 "nbformat_minor": 5
}
