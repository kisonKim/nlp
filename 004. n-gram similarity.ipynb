{
 "cells": [
  {
   "cell_type": "code",
   "execution_count": 20,
   "id": "446d19c6",
   "metadata": {},
   "outputs": [
    {
     "name": "stdout",
     "output_type": "stream",
     "text": [
      "0.6666666666666666\n"
     ]
    }
   ],
   "source": [
    "#n gram 유사도\n",
    "# 두 문장간의 유사도를 계산함.\n",
    "\n",
    "from konlpy.tag import Komoran\n",
    "\n",
    "\n",
    "def word_ngram(bow,num_gram):\n",
    "    text = tuple(bow)\n",
    "    ngrams = [text[x:x+ num_gram] for x in range(0, len(text))]\n",
    "    return tuple(ngrams)\n",
    "\n",
    "def similarity(doc1,doc2):\n",
    "    cnt = 0\n",
    "    for token in doc1:\n",
    "        if token in doc2:\n",
    "            cnt += 1\n",
    "    return cnt/len(doc1)\n",
    "            \n",
    "sentence_1 = \"6월에 뉴턴은 선생님의 제안으로 트리니티에 입학했다.\"\n",
    "sentence_2 = \"6월에 뉴턴은 선생님의 제안으로 대학교에 입학했다.\"\n",
    "\n",
    "kom = Komoran()\n",
    "\n",
    "#bow(ag of words) :: n-gram으로 만들어진 토큰의 집합\n",
    "bow_1 = kom.nouns(sentence_1)\n",
    "bow_2 = kom.nouns(sentence_2)\n",
    "\n",
    "print(similarity(word_ngram(bow_1,2), word_ngram(bow_2,2)))"
   ]
  },
  {
   "cell_type": "code",
   "execution_count": 51,
   "id": "44e02d30",
   "metadata": {},
   "outputs": [
    {
     "name": "stdout",
     "output_type": "stream",
     "text": [
      "4\n",
      "2\n",
      "[3, 5]\n"
     ]
    }
   ],
   "source": [
    "def solution(lottos, win_nums):\n",
    "    score = {6:1,5:2,4:3,3:4,2:5,1:6,0:6}\n",
    "    count = 0\n",
    "    \n",
    "    zero_cnt = 0\n",
    "    for number in lottos:\n",
    "        if number == 0 :\n",
    "            zero_cnt += 1\n",
    "            continue\n",
    "        if number in win_nums:\n",
    "            count += 1\n",
    "    \n",
    "    max = count + zero_cnt\n",
    "    min = count\n",
    "    return [score[max],score[min]]\n",
    "\n",
    "lottos=[44, 1, 0, 0, 31, 25]\n",
    "win_nums = [31, 10, 45, 1, 6, 19]\n",
    "print(solution(lottos, win_nums))"
   ]
  },
  {
   "cell_type": "code",
   "execution_count": null,
   "id": "10e31bfa",
   "metadata": {},
   "outputs": [],
   "source": []
  }
 ],
 "metadata": {
  "kernelspec": {
   "display_name": "Python 3",
   "language": "python",
   "name": "python3"
  },
  "language_info": {
   "codemirror_mode": {
    "name": "ipython",
    "version": 3
   },
   "file_extension": ".py",
   "mimetype": "text/x-python",
   "name": "python",
   "nbconvert_exporter": "python",
   "pygments_lexer": "ipython3",
   "version": "3.8.8"
  }
 },
 "nbformat": 4,
 "nbformat_minor": 5
}
