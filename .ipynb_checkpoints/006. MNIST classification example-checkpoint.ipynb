{
 "cells": [
  {
   "cell_type": "code",
   "execution_count": 4,
   "id": "758a3e91",
   "metadata": {},
   "outputs": [
    {
     "name": "stdout",
     "output_type": "stream",
     "text": [
      "Downloading data from https://storage.googleapis.com/tensorflow/tf-keras-datasets/mnist.npz\n",
      "11493376/11490434 [==============================] - 0s 0us/step\n",
      "11501568/11490434 [==============================] - 0s 0us/step\n"
     ]
    }
   ],
   "source": [
    "#케라스를 이용해 숫자 이미지를 분류하는 모델\n",
    "import tensorflow as tf\n",
    "import matplotlib.pyplot as plt\n",
    "from tensorflow.keras.datasets import mnist\n",
    "from tensorflow.keras.models import Sequential\n",
    "from tensorflow.keras.layers import Flatten, Dense"
   ]
  },
  {
   "cell_type": "code",
   "execution_count": 7,
   "id": "54deffb7",
   "metadata": {},
   "outputs": [],
   "source": [
    "#MNIST 데이터 셋 가져오기\n",
    "(x_train,y_train), (x_test,y_test) = mnist.load_data()\n",
    "x_train, x_test = x_train / 255.0, x_test/255.0 # 데이터 정규화,.../?\n",
    "\n",
    "#x_train, x_test 는 실제 이미지 값 \n",
    "#y_train, y_test 는 이미지의 정답 값 "
   ]
  },
  {
   "cell_type": "code",
   "execution_count": null,
   "id": "fc513403",
   "metadata": {},
   "outputs": [],
   "source": []
  }
 ],
 "metadata": {
  "kernelspec": {
   "display_name": "Python 3",
   "language": "python",
   "name": "python3"
  },
  "language_info": {
   "codemirror_mode": {
    "name": "ipython",
    "version": 3
   },
   "file_extension": ".py",
   "mimetype": "text/x-python",
   "name": "python",
   "nbconvert_exporter": "python",
   "pygments_lexer": "ipython3",
   "version": "3.8.8"
  }
 },
 "nbformat": 4,
 "nbformat_minor": 5
}
