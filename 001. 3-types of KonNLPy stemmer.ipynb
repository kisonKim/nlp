{
 "cells": [
  {
   "cell_type": "markdown",
   "id": "03a468df",
   "metadata": {},
   "source": [
    "## 1. KKMA (꼬꼬마)"
   ]
  },
  {
   "cell_type": "code",
   "execution_count": null,
   "id": "4e6afc58",
   "metadata": {},
   "outputs": [],
   "source": []
  },
  {
   "cell_type": "markdown",
   "id": "a2c3924d",
   "metadata": {},
   "source": [
    "## 2. Komoran (코모란)"
   ]
  },
  {
   "cell_type": "markdown",
   "id": "fbad3e12",
   "metadata": {},
   "source": [
    "## 3. Okt (Open-source Korean Text Processor)"
   ]
  },
  {
   "cell_type": "code",
   "execution_count": null,
   "id": "20c69dac",
   "metadata": {},
   "outputs": [],
   "source": []
  }
 ],
 "metadata": {
  "kernelspec": {
   "display_name": "Python 3",
   "language": "python",
   "name": "python3"
  },
  "language_info": {
   "codemirror_mode": {
    "name": "ipython",
    "version": 3
   },
   "file_extension": ".py",
   "mimetype": "text/x-python",
   "name": "python",
   "nbconvert_exporter": "python",
   "pygments_lexer": "ipython3",
   "version": "3.8.8"
  }
 },
 "nbformat": 4,
 "nbformat_minor": 5
}
