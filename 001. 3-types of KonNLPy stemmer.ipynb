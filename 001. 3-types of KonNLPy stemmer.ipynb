{
 "cells": [
  {
   "cell_type": "markdown",
   "id": "197dde06",
   "metadata": {},
   "source": [
    "## Windows\n",
    "KoNLPy 설치  \n",
    "https://d-e-v.tistory.com/9  \n",
    "\n",
    "KoNLPy 설치 후, module 'tweepy' has no attribute 'StreamListener' 에러가 발생한 경우,  \n",
    "```\n",
    "!pip install tweepy==3.10.0\n",
    "```\n",
    "상기 명령어를 통해 tweepy 버전을 낮춘 후, 실행해본다.`(주피터 노트북 재시작 필요)`\n",
    "\n",
    "- JVM 세팅도 해주어야 함..\n",
    "\n",
    "## MacOS\n",
    "KoNLPy 설치\n",
    "```\n",
    "python3 -m pip install konlpy\n",
    "python3 -m pup install tweepy==3.10.0\n",
    "```\n",
    "- JVM 설치 (https://www.oracle.com/java/technologies/downloads/#jdk17-mac)\n",
    "\n",
    "JVM 환경변수 설정에 주의할 것! (고급 시스템 설정 보기)"
   ]
  },
  {
   "cell_type": "markdown",
   "id": "4351eb60",
   "metadata": {},
   "source": [
    "## 1. KKMA (꼬꼬마)\n",
    "서울대학교 IDS(Intelligent Data Systems) 연구실에서 자연어 처리를 위해 개발한 한국어 stemmer\n"
   ]
  },
  {
   "cell_type": "code",
   "execution_count": 9,
   "id": "44b40caf",
   "metadata": {},
   "outputs": [
    {
     "name": "stdout",
     "output_type": "stream",
     "text": [
      "--sys.version—\n",
      "3.8.8 (default, Apr 13 2021, 15:08:03) [MSC v.1916 64 bit (AMD64)]\n"
     ]
    }
   ],
   "source": []
  },
  {
   "cell_type": "code",
   "execution_count": 1,
   "id": "ad13c734",
   "metadata": {},
   "outputs": [
    {
     "name": "stdout",
     "output_type": "stream",
     "text": [
      "['아버지', '가', '방', '에', '들어가', '시', 'ㅂ니다', '.']\n",
      "[('아버지', 'NNG'), ('가', 'JKS'), ('방', 'NNG'), ('에', 'JKM'), ('들어가', 'VV'), ('시', 'EPH'), ('ㅂ니다', 'EFN'), ('.', 'SF')]\n"
     ]
    }
   ],
   "source": [
    "from konlpy.tag import Kkma\n",
    "kkma = Kkma()\n",
    "text = \"아버지가 방에 들어가십니다.\"\n",
    "\n",
    "#형태소 추출\n",
    "morphs = kkma.morphs(text)\n",
    "print(morphs)\n",
    "\n",
    "#형태소와 품사 태그 셋 추출\n",
    "pos = kkma.pos(text)\n",
    "print(pos)"
   ]
  },
  {
   "cell_type": "markdown",
   "id": "8c684979",
   "metadata": {},
   "source": [
    "## 2. Komoran (코모란)"
   ]
  },
  {
   "cell_type": "code",
   "execution_count": 23,
   "id": "131cdcdb",
   "metadata": {},
   "outputs": [
    {
     "name": "stdout",
     "output_type": "stream",
     "text": [
      "엔엘피\tNNG\n",
      "\n",
      "엔엘피<tab>NNG\n",
      "['우리', '챗봇은', '엔엘피', '를', '좋아하', '아', '.']\n",
      "[('우리', 'NP'), ('챗봇은', 'NA'), ('엔엘피', 'NNG'), ('를', 'JKO'), ('좋아하', 'VV'), ('아', 'EF'), ('.', 'SF')]\n",
      "----------\n",
      "['엔엘피']\n"
     ]
    }
   ],
   "source": [
    "from konlpy.tag import Komoran\n",
    "f= open('./user_dic.tsv','r', encoding='utf-8', newline='')\n",
    "\n",
    "\n",
    "# 탭 확인 코드\n",
    "#with open('./user_dic.tsv', 'r',encoding='utf-8') as f:\n",
    "#    for line in f:\n",
    "#        print(line.strip().replace('\\t', '<tab>'))\n",
    "        \n",
    "komoran = Komoran(userdic='./user_dic.tsv')\n",
    "text = \"우리 챗봇은 엔엘피를 좋아해.\"\n",
    "\n",
    "#형태소 추출\n",
    "morphs = komoran.morphs(text)\n",
    "print(morphs)\n",
    "\n",
    "#형태소와 품사 태그 셋 추출\n",
    "pos = komoran.pos(text)\n",
    "print(pos)\n",
    "\n",
    "print(\"-\"*10)\n",
    "\n",
    "nouns = komoran.nouns(text)\n",
    "print(nouns)"
   ]
  },
  {
   "cell_type": "markdown",
   "id": "18ab3967",
   "metadata": {},
   "source": [
    "## 3. Okt (Open-source Korean Text Processor)"
   ]
  },
  {
   "cell_type": "code",
   "execution_count": 25,
   "id": "ba04f2be",
   "metadata": {},
   "outputs": [
    {
     "name": "stdout",
     "output_type": "stream",
     "text": [
      "['아버지', '가', '엔엘', '피', '를', '좋아하십니다', '.']\n",
      "[('아버지', 'Noun'), ('가', 'Josa'), ('엔엘', 'Noun'), ('피', 'Noun'), ('를', 'Josa'), ('좋아하십니다', 'Adjective'), ('.', 'Punctuation')]\n"
     ]
    }
   ],
   "source": [
    "from konlpy.tag import Okt\n",
    "okt = Okt()\n",
    "text = \"아버지가 엔엘피를 좋아하십니다.\"\n",
    "\n",
    "#형태소 추출\n",
    "morphs = okt.morphs(text)\n",
    "print(morphs)\n",
    "\n",
    "#형태소와 품사 태그 셋 추출\n",
    "pos = okt.pos(text)\n",
    "print(pos)\n",
    "\n"
   ]
  },
  {
   "cell_type": "markdown",
   "id": "ccf58589",
   "metadata": {},
   "source": [
    "## 워드임베딩 ) 단어임베딩 ) 원-핫 인코딩"
   ]
  },
  {
   "cell_type": "code",
   "execution_count": 31,
   "id": "06ee3a8a",
   "metadata": {},
   "outputs": [
    {
     "name": "stdout",
     "output_type": "stream",
     "text": [
      "['오늘', '날씨', '구름']\n",
      "{'오늘': 0, '날씨': 1, '구름': 2}\n",
      "[0, 1, 2]\n",
      "[[1. 0. 0.]\n",
      " [0. 1. 0.]\n",
      " [0. 0. 1.]]\n"
     ]
    }
   ],
   "source": [
    "from konlpy.tag import Komoran\n",
    "import numpy as np\n",
    "\n",
    "komoran = Komoran()\n",
    "text = \"오늘 날씨는 구름이 많아요.\"\n",
    "\n",
    "nouns = komoran.nouns(text)\n",
    "print(nouns)\n",
    "\n",
    "dics={}\n",
    "for word in nouns:\n",
    "    if word not in dics.keys():\n",
    "        dics[word] = len(dics)\n",
    "print(dics)\n",
    "\n",
    "#원-핫 인코딩\n",
    "nb_classes = len(dics)\n",
    "targets = list(dics.values())\n",
    "\n",
    "print(targets)\n",
    "one_hot_targets = np.eye(nb_classes)[targets]\n",
    "print(one_hot_targets)"
   ]
  },
  {
   "cell_type": "code",
   "execution_count": null,
   "id": "08284289",
   "metadata": {},
   "outputs": [],
   "source": []
  }
 ],
 "metadata": {
  "kernelspec": {
   "display_name": "Python 3",
   "language": "python",
   "name": "python3"
  },
  "language_info": {
   "codemirror_mode": {
    "name": "ipython",
    "version": 3
   },
   "file_extension": ".py",
   "mimetype": "text/x-python",
   "name": "python",
   "nbconvert_exporter": "python",
   "pygments_lexer": "ipython3",
   "version": "3.8.8"
  }
 },
 "nbformat": 4,
 "nbformat_minor": 5
}
